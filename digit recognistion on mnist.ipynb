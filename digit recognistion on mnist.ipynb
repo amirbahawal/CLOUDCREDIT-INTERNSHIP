{
  "cells": [
    {
      "cell_type": "code",
      "source": [
        "import torch\n",
        "import torch.nn as  nn\n",
        "import torchvision\n",
        "import torch.optim as optim\n",
        "import  torchvision.transforms  as transforms\n",
        "from torch.utils.data import DataLoader ,Subset"
      ],
      "metadata": {
        "id": "F3x0KQL8XPeJ"
      },
      "execution_count": 9,
      "outputs": []
    },
    {
      "cell_type": "code",
      "source": [
        "transform = transforms.Compose([transforms.ToTensor()])"
      ],
      "metadata": {
        "id": "nV40x0SKXPZ5"
      },
      "execution_count": 17,
      "outputs": []
    },
    {
      "cell_type": "code",
      "source": [
        "\n",
        "z=torchvision.datasets.MNIST(root= './data',\n",
        "train= True,\n",
        "download=True,\n",
        "transform=transform)"
      ],
      "metadata": {
        "colab": {
          "base_uri": "https://localhost:8080/"
        },
        "id": "4VNr-TiKXPXD",
        "outputId": "b95bb054-dddd-4115-acb8-0c49a7cff4fe"
      },
      "execution_count": 19,
      "outputs": [
        {
          "output_type": "stream",
          "name": "stderr",
          "text": [
            "100%|██████████| 9.91M/9.91M [00:00<00:00, 103MB/s]\n",
            "100%|██████████| 28.9k/28.9k [00:00<00:00, 29.3MB/s]\n",
            "100%|██████████| 1.65M/1.65M [00:00<00:00, 29.3MB/s]\n",
            "100%|██████████| 4.54k/4.54k [00:00<00:00, 9.06MB/s]\n"
          ]
        }
      ]
    },
    {
      "cell_type": "code",
      "source": [
        "y=torchvision.datasets.MNIST(root= './data',\n",
        "train= False,\n",
        "download=True,\n",
        "transform=transform)"
      ],
      "metadata": {
        "id": "HAfexoXfXPTf"
      },
      "execution_count": 23,
      "outputs": []
    },
    {
      "cell_type": "code",
      "source": [
        "w=Subset(z ,[i for i, (img, label) in enumerate(z) if label in [0, 1]])"
      ],
      "metadata": {
        "id": "pps6RgVLXPRH"
      },
      "execution_count": 29,
      "outputs": []
    },
    {
      "cell_type": "code",
      "source": [
        "T= Subset(y, [\n",
        "    i for i, (img, label) in enumerate(y) if label in [0, 1]\n",
        "])\n"
      ],
      "metadata": {
        "id": "zzziG7S_XPN3"
      },
      "execution_count": 30,
      "outputs": []
    },
    {
      "cell_type": "code",
      "source": [
        "train_loader = DataLoader(w, batch_size=64, shuffle=True)\n"
      ],
      "metadata": {
        "id": "RxEPyLdnXPLb"
      },
      "execution_count": 35,
      "outputs": []
    },
    {
      "cell_type": "code",
      "source": [
        "test_loader = DataLoader(T, batch_size=64)\n"
      ],
      "metadata": {
        "id": "mjfUlZd4XPIM"
      },
      "execution_count": 37,
      "outputs": []
    },
    {
      "cell_type": "code",
      "source": [
        "class bullpaid(nn.Module):\n",
        "    def __init__(self):\n",
        "        super(bullpaid, self).__init__()\n",
        "        self.net = nn.Sequential(\n",
        "            nn.Flatten(),\n",
        "            nn.Linear(28*28, 128),\n",
        "            nn.ReLU(),\n",
        "            nn.Linear(128, 1),\n",
        "            nn.Sigmoid()\n",
        "        )\n",
        "\n",
        "    def forward(self,x):\n",
        "          return self.net(x)"
      ],
      "metadata": {
        "id": "FIVYJK7JXPF1"
      },
      "execution_count": 88,
      "outputs": []
    },
    {
      "cell_type": "code",
      "source": [
        "model=bullpaid()\n",
        "loss_fun= nn.BCELoss()\n",
        "optimizer= optim.Adam(model.parameters(), lr=0.001)"
      ],
      "metadata": {
        "id": "DYmcLoHdXO_s"
      },
      "execution_count": 89,
      "outputs": []
    },
    {
      "cell_type": "code",
      "source": [
        " for epoch in range(5):  # Train for 5 epochs\n",
        "    model.train()\n",
        "    for images, labels in train_loader:\n",
        "        labels = labels.float().unsqueeze(1)  # Shape: [batch_size, 1]\n",
        "\n",
        "        outputs = model(images)               # Forward pass\n",
        "        loss = loss_fun(outputs, labels)     # Compute loss\n",
        "\n",
        "        optimizer.zero_grad()                 # Clear old gradients\n",
        "        loss.backward()                       # Backpropagation\n",
        "        optimizer.step()                      # Update weights\n",
        "\n",
        "    print(f\"Epoch {epoch+1}, Loss: {loss.item():.4f}\")\n"
      ],
      "metadata": {
        "colab": {
          "base_uri": "https://localhost:8080/"
        },
        "id": "mYdQaM6DXOh0",
        "outputId": "85b2b6ca-fd4c-4030-c19c-104773d95ab7"
      },
      "execution_count": 91,
      "outputs": [
        {
          "output_type": "stream",
          "name": "stdout",
          "text": [
            "Epoch 1, Loss: 0.0030\n",
            "Epoch 2, Loss: 0.0003\n",
            "Epoch 3, Loss: 0.0001\n",
            "Epoch 4, Loss: 0.0000\n",
            "Epoch 5, Loss: 0.0000\n"
          ]
        }
      ]
    },
    {
      "cell_type": "code",
      "source": [
        "correct = 0\n",
        "total = 0\n",
        "model.eval()\n",
        "\n",
        "with torch.no_grad():\n",
        "    for images, labels in test_loader:\n",
        "        labels = labels.float().unsqueeze(1)\n",
        "        outputs = model(images)\n",
        "        predicted = (outputs > 0.5).float()\n",
        "        correct += (predicted == labels).sum().item()\n",
        "        total += labels.size(0)\n",
        "\n",
        "print(f\"Accuracy: {100 * correct / total:.2f}%\")\n"
      ],
      "metadata": {
        "colab": {
          "base_uri": "https://localhost:8080/"
        },
        "id": "yfRe5ciJXOfq",
        "outputId": "0fb915ee-7c4f-4aff-bb8f-c56279ce0ec3"
      },
      "execution_count": 95,
      "outputs": [
        {
          "output_type": "stream",
          "name": "stdout",
          "text": [
            "Accuracy: 100.00%\n"
          ]
        }
      ]
    },
    {
      "cell_type": "code",
      "source": [],
      "metadata": {
        "id": "CyY3mGU6XOdB"
      },
      "execution_count": null,
      "outputs": []
    },
    {
      "cell_type": "code",
      "source": [],
      "metadata": {
        "id": "OoyAvKiHXObK"
      },
      "execution_count": null,
      "outputs": []
    },
    {
      "cell_type": "code",
      "source": [],
      "metadata": {
        "id": "1fwJWIaNXOW7"
      },
      "execution_count": null,
      "outputs": []
    }
  ],
  "metadata": {
    "colab": {
      "name": "Welcome To Colab",
      "toc_visible": true,
      "provenance": []
    },
    "kernelspec": {
      "display_name": "Python 3",
      "name": "python3"
    }
  },
  "nbformat": 4,
  "nbformat_minor": 0
}